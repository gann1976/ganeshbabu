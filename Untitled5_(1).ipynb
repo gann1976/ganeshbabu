{
  "nbformat": 4,
  "nbformat_minor": 0,
  "metadata": {
    "colab": {
      "provenance": []
    },
    "kernelspec": {
      "name": "python3",
      "display_name": "Python 3"
    },
    "language_info": {
      "name": "python"
    }
  },
  "cells": [
    {
      "cell_type": "code",
      "execution_count": null,
      "metadata": {
        "colab": {
          "base_uri": "https://localhost:8080/"
        },
        "id": "WRBDdz8ZIKtV",
        "outputId": "3c2e9703-a0d0-4a9b-e72e-582e0bf3a754"
      },
      "outputs": [
        {
          "output_type": "stream",
          "name": "stdout",
          "text": [
            "fruitslist: ['apple', 'banana', 'orange']\n"
          ]
        }
      ],
      "source": [
        "fruitslist=['apple','banana','orange']\n",
        "print(\"fruitslist:\",fruitslist)\n"
      ]
    },
    {
      "cell_type": "code",
      "source": [
        "fruitslist.append('grape')"
      ],
      "metadata": {
        "id": "YNQnDLIsIzJs"
      },
      "execution_count": null,
      "outputs": []
    },
    {
      "cell_type": "code",
      "source": [
        "print(\"fruitslist:\",fruitslist)"
      ],
      "metadata": {
        "colab": {
          "base_uri": "https://localhost:8080/"
        },
        "id": "JFGKDyJDJCFR",
        "outputId": "ddf70eed-8ba7-4c28-ce85-eb35a478b4aa"
      },
      "execution_count": null,
      "outputs": [
        {
          "output_type": "stream",
          "name": "stdout",
          "text": [
            "fruitslist: ['apple', 'banana', 'orange']\n"
          ]
        }
      ]
    },
    {
      "cell_type": "code",
      "source": [
        "fruitslist.remove('banana')"
      ],
      "metadata": {
        "id": "Ufaby9g1JLGH"
      },
      "execution_count": null,
      "outputs": []
    },
    {
      "cell_type": "code",
      "source": [
        "print(\"fruitslist:\",fruitslist)"
      ],
      "metadata": {
        "colab": {
          "base_uri": "https://localhost:8080/"
        },
        "id": "VpwiZ_FSJWFg",
        "outputId": "a4d928d5-0ca8-4121-becf-21d280eba1ca"
      },
      "execution_count": null,
      "outputs": [
        {
          "output_type": "stream",
          "name": "stdout",
          "text": [
            "fruitslist: ['apple', 'banana', 'orange']\n"
          ]
        }
      ]
    },
    {
      "cell_type": "code",
      "source": [
        "if'apple' in fruitslist:\n",
        "  print(\"yes, 'apple'present in fruitslist.\")\n",
        "else:\n",
        "  print(\"no,'apple is not present in fruitlists\")"
      ],
      "metadata": {
        "colab": {
          "base_uri": "https://localhost:8080/"
        },
        "id": "Pm0giItUKqPR",
        "outputId": "34f6b31c-a544-4e7d-cbad-854ff69f8b44"
      },
      "execution_count": null,
      "outputs": [
        {
          "output_type": "stream",
          "name": "stdout",
          "text": [
            "yes, 'apple'present in fruitslist.\n"
          ]
        }
      ]
    },
    {
      "cell_type": "code",
      "source": [
        "numberslist=[1,2,3]\n",
        "print(\"numberlists:\",numberslist)"
      ],
      "metadata": {
        "colab": {
          "base_uri": "https://localhost:8080/"
        },
        "id": "31UxQcAFLZX3",
        "outputId": "bccb8e64-fb84-4a4c-88bf-2f56ee3f6d3d"
      },
      "execution_count": null,
      "outputs": [
        {
          "output_type": "stream",
          "name": "stdout",
          "text": [
            "numberlists: [1, 2, 3]\n"
          ]
        }
      ]
    },
    {
      "cell_type": "code",
      "source": [
        "fruits=['apple','orange','grape']\n",
        "numbers=[1,2,3]\n"
      ],
      "metadata": {
        "id": "LkRzh31nLtOX"
      },
      "execution_count": null,
      "outputs": []
    },
    {
      "cell_type": "code",
      "source": [
        "fruits.extend(numbers)"
      ],
      "metadata": {
        "id": "YWOJSnlGPBai"
      },
      "execution_count": null,
      "outputs": []
    },
    {
      "cell_type": "code",
      "source": [
        "print(\"fruits:\",fruits)"
      ],
      "metadata": {
        "colab": {
          "base_uri": "https://localhost:8080/"
        },
        "id": "n7bluwGhPOoP",
        "outputId": "906f1ae3-0a24-454c-fd77-dc4bce301882"
      },
      "execution_count": null,
      "outputs": [
        {
          "output_type": "stream",
          "name": "stdout",
          "text": [
            "fruits: ['apple', 'orange', 'grape', 1, 2, 3]\n"
          ]
        }
      ]
    },
    {
      "cell_type": "code",
      "source": [
        "combinedlist=fruits"
      ],
      "metadata": {
        "id": "ajrI_BJWPba9"
      },
      "execution_count": null,
      "outputs": []
    },
    {
      "cell_type": "code",
      "source": [
        "print(\"combinedlist:\",combinedlist)"
      ],
      "metadata": {
        "colab": {
          "base_uri": "https://localhost:8080/"
        },
        "id": "lkf7iTPAPj7C",
        "outputId": "e052ad81-27b7-4d32-c6c6-63de4461feb6"
      },
      "execution_count": null,
      "outputs": [
        {
          "output_type": "stream",
          "name": "stdout",
          "text": [
            "combinedlist: ['apple', 'orange', 'grape', 1, 2, 3]\n"
          ]
        }
      ]
    },
    {
      "cell_type": "code",
      "source": [
        "index=combinedlist.index('orange')"
      ],
      "metadata": {
        "id": "i5ycoqKSPrcW"
      },
      "execution_count": null,
      "outputs": []
    },
    {
      "cell_type": "code",
      "source": [
        "print(\"index:\",index)"
      ],
      "metadata": {
        "colab": {
          "base_uri": "https://localhost:8080/"
        },
        "id": "OutzjiOxQFNG",
        "outputId": "88c5c4bd-7fc5-409e-894c-a5b45de1e58b"
      },
      "execution_count": null,
      "outputs": [
        {
          "output_type": "stream",
          "name": "stdout",
          "text": [
            "index: 1\n"
          ]
        }
      ]
    },
    {
      "cell_type": "code",
      "source": [
        "fruits=['apple','orange','grape']\n",
        "fruits.reverse()\n",
        "print(\"fruits:\",fruits)\n"
      ],
      "metadata": {
        "colab": {
          "base_uri": "https://localhost:8080/"
        },
        "id": "-mn32YTVQTEN",
        "outputId": "fa379b46-1eed-41d2-b05d-0f645cf7baf6"
      },
      "execution_count": null,
      "outputs": [
        {
          "output_type": "stream",
          "name": "stdout",
          "text": [
            "fruits: ['grape', 'orange', 'apple']\n"
          ]
        }
      ]
    },
    {
      "cell_type": "code",
      "source": [
        "daystuple=('monday','tuesday','wednesday')"
      ],
      "metadata": {
        "id": "DslPdHJbRCzV"
      },
      "execution_count": null,
      "outputs": []
    },
    {
      "cell_type": "code",
      "source": [
        "print(\"daystuple:\",daystuple)"
      ],
      "metadata": {
        "colab": {
          "base_uri": "https://localhost:8080/"
        },
        "id": "oEN8I92SRlRo",
        "outputId": "d012cd11-c3a1-47e1-9f8b-030521f9bef6"
      },
      "execution_count": null,
      "outputs": [
        {
          "output_type": "stream",
          "name": "stdout",
          "text": [
            "daystuple: ('monday', 'tuesday', 'wednesday')\n"
          ]
        }
      ]
    },
    {
      "cell_type": "code",
      "source": [
        "second_day=daystuple[1]"
      ],
      "metadata": {
        "id": "pFYoJ-1mT_wl"
      },
      "execution_count": null,
      "outputs": []
    },
    {
      "cell_type": "code",
      "source": [
        "print(\"second day:\",second_day)"
      ],
      "metadata": {
        "colab": {
          "base_uri": "https://localhost:8080/"
        },
        "id": "fPMqW-T-ULpe",
        "outputId": "9b914506-e862-484e-d759-6be3542845f6"
      },
      "execution_count": null,
      "outputs": [
        {
          "output_type": "stream",
          "name": "stdout",
          "text": [
            "second day: tuesday\n"
          ]
        }
      ]
    },
    {
      "cell_type": "code",
      "source": [
        "index_wednesday=daystuple.index('wednesday')\n",
        "print(\"index of'wednesday':\",index_wednesday )"
      ],
      "metadata": {
        "colab": {
          "base_uri": "https://localhost:8080/"
        },
        "id": "77boaNb6UfpX",
        "outputId": "fbc6d4b4-d37d-4fa9-ad05-8b5f78edde1d"
      },
      "execution_count": null,
      "outputs": [
        {
          "output_type": "stream",
          "name": "stdout",
          "text": [
            "index of'wednesday': 2\n"
          ]
        }
      ]
    },
    {
      "cell_type": "code",
      "source": [
        "count_tuesday=daystuple.count('tuesday')\n",
        "print(\"occurrences of'tuesday':\",count_tuesday)"
      ],
      "metadata": {
        "colab": {
          "base_uri": "https://localhost:8080/"
        },
        "id": "lFBFYzSNVaCI",
        "outputId": "98e8584d-8ca1-430c-bb1c-de44f0b01c3d"
      },
      "execution_count": null,
      "outputs": [
        {
          "output_type": "stream",
          "name": "stdout",
          "text": [
            "occurrences of'tuesday': 1\n"
          ]
        }
      ]
    },
    {
      "cell_type": "code",
      "source": [
        "fruitsset={'apple','banana','orange'}\n",
        "print(\"fruitsset:\",fruitsset)"
      ],
      "metadata": {
        "colab": {
          "base_uri": "https://localhost:8080/"
        },
        "id": "tfzIf0gyghI-",
        "outputId": "cd1c974d-79b1-4c0f-e05b-9eee5abfcc32"
      },
      "execution_count": null,
      "outputs": [
        {
          "output_type": "stream",
          "name": "stdout",
          "text": [
            "fruitsset: {'orange', 'apple', 'banana'}\n"
          ]
        }
      ]
    },
    {
      "cell_type": "code",
      "source": [
        "fruitsset.add('grape')\n",
        "print(\"fruitsset:\",fruitsset)"
      ],
      "metadata": {
        "colab": {
          "base_uri": "https://localhost:8080/"
        },
        "id": "Zd8osYKAhWyY",
        "outputId": "72ad7e7a-a2e6-4e93-b3bf-6e1bd0319875"
      },
      "execution_count": null,
      "outputs": [
        {
          "output_type": "stream",
          "name": "stdout",
          "text": [
            "fruitsset: {'grape', 'orange', 'apple', 'banana'}\n"
          ]
        }
      ]
    },
    {
      "cell_type": "code",
      "source": [
        "fruitsset.remove('banana')\n",
        "print(\"fruitsset:\",fruitsset)"
      ],
      "metadata": {
        "colab": {
          "base_uri": "https://localhost:8080/"
        },
        "id": "BQu-WpFPhpGT",
        "outputId": "0b482db7-76d8-453a-d14e-70b670d5ec80"
      },
      "execution_count": null,
      "outputs": [
        {
          "output_type": "stream",
          "name": "stdout",
          "text": [
            "fruitsset: {'grape', 'orange', 'apple'}\n"
          ]
        }
      ]
    },
    {
      "cell_type": "code",
      "source": [
        "colorsset={'red','green','blue'}\n",
        "print(\"colorsset:\",colorsset)"
      ],
      "metadata": {
        "colab": {
          "base_uri": "https://localhost:8080/"
        },
        "id": "ioE78kNhiBpm",
        "outputId": "768b52ce-c853-4f1e-c8b0-07c6a2bed2c4"
      },
      "execution_count": null,
      "outputs": [
        {
          "output_type": "stream",
          "name": "stdout",
          "text": [
            "colorsset: {'green', 'red', 'blue'}\n"
          ]
        }
      ]
    },
    {
      "cell_type": "code",
      "source": [
        "combined_set=fruitsset.union(colorsset)\n",
        "print(\"combined_set:\",combined_set)"
      ],
      "metadata": {
        "colab": {
          "base_uri": "https://localhost:8080/"
        },
        "id": "9Q_EmfJDiinY",
        "outputId": "ee9aa27e-d9b2-4f2a-fa47-5951c08ab4cc"
      },
      "execution_count": null,
      "outputs": [
        {
          "output_type": "stream",
          "name": "stdout",
          "text": [
            "combined_set: {'green', 'blue', 'orange', 'apple', 'red'}\n"
          ]
        }
      ]
    },
    {
      "cell_type": "code",
      "source": [
        "fruitsset2={\"grape\",\"banana\",\"apple\"}\n",
        "print(\"fruitsset2:\",fruitsset2)"
      ],
      "metadata": {
        "colab": {
          "base_uri": "https://localhost:8080/"
        },
        "id": "gxim4pBLjPnq",
        "outputId": "41c71246-ba71-4cb7-c048-c7930ea69ef0"
      },
      "execution_count": null,
      "outputs": [
        {
          "output_type": "stream",
          "name": "stdout",
          "text": [
            "fruitsset2: {'grape', 'banana', 'apple'}\n"
          ]
        }
      ]
    },
    {
      "cell_type": "code",
      "source": [
        "fruitsset1={\"apple\",\"orange\",\"pineapple\"}\n",
        "print(\"fruitsset1:\",fruitsset1)"
      ],
      "metadata": {
        "colab": {
          "base_uri": "https://localhost:8080/"
        },
        "id": "ZmI4VZkJQjf3",
        "outputId": "8691ae2c-e542-4c27-aab0-8a3ca2d3b031"
      },
      "execution_count": null,
      "outputs": [
        {
          "output_type": "stream",
          "name": "stdout",
          "text": [
            "fruitsset1: {'orange', 'apple', 'pineapple'}\n"
          ]
        }
      ]
    },
    {
      "cell_type": "code",
      "source": [
        "unique_elements=fruitsset1.difference(fruitsset2)\n",
        "print(\"unique elements in fruit set:\",unique_elements)"
      ],
      "metadata": {
        "colab": {
          "base_uri": "https://localhost:8080/"
        },
        "id": "cNLXekTjRBQA",
        "outputId": "7b595eda-4b44-4c62-cc50-531e173dbbc4"
      },
      "execution_count": null,
      "outputs": [
        {
          "output_type": "stream",
          "name": "stdout",
          "text": [
            "unique elements in fruit set: {'orange', 'pineapple'}\n"
          ]
        }
      ]
    },
    {
      "cell_type": "code",
      "source": [
        "fruitsset.difference(colorsset)"
      ],
      "metadata": {
        "colab": {
          "base_uri": "https://localhost:8080/"
        },
        "id": "pRYs9zWKR0sG",
        "outputId": "69dd5e27-b32c-432f-fcd7-ad6ed82a059c"
      },
      "execution_count": null,
      "outputs": [
        {
          "output_type": "execute_result",
          "data": {
            "text/plain": [
              "{'apple', 'grape', 'orange'}"
            ]
          },
          "metadata": {},
          "execution_count": 50
        }
      ]
    },
    {
      "cell_type": "code",
      "source": [
        "if colorsset.issubset(fruitsset):\n",
        "  print(\"colorsset is a subset of fruitsset\")\n",
        "else:\n",
        "  print(\"colorsset is not a subset of fruitsset\")"
      ],
      "metadata": {
        "colab": {
          "base_uri": "https://localhost:8080/"
        },
        "id": "KICCIza2SXiN",
        "outputId": "ab698527-b7da-40c7-edb8-7781da96abb1"
      },
      "execution_count": null,
      "outputs": [
        {
          "output_type": "stream",
          "name": "stdout",
          "text": [
            "colorsset is not a subset of fruitsset\n"
          ]
        }
      ]
    },
    {
      "cell_type": "code",
      "source": [
        "z=fruitsset1.issubset(fruitsset2)\n",
        "print(z)"
      ],
      "metadata": {
        "colab": {
          "base_uri": "https://localhost:8080/"
        },
        "id": "GLIR8IJoUmfh",
        "outputId": "af22b664-9a95-4949-f5e7-546178156ee3"
      },
      "execution_count": null,
      "outputs": [
        {
          "output_type": "stream",
          "name": "stdout",
          "text": [
            "False\n"
          ]
        }
      ]
    },
    {
      "cell_type": "code",
      "source": [
        "student={'name':'alice','age':15,'grade':'A'}\n",
        "print(\"student dictionary:\",student)"
      ],
      "metadata": {
        "colab": {
          "base_uri": "https://localhost:8080/"
        },
        "id": "pAC01LgcYbki",
        "outputId": "fd6ae1ea-4d65-43e8-cfb6-6dab9c7092c5"
      },
      "execution_count": null,
      "outputs": [
        {
          "output_type": "stream",
          "name": "stdout",
          "text": [
            "student dictionary: {'name': 'alice', 'age': 15, 'grade': 'A'}\n"
          ]
        }
      ]
    },
    {
      "cell_type": "code",
      "source": [
        "age=student['age']\n",
        "print(\"age:\",age)"
      ],
      "metadata": {
        "colab": {
          "base_uri": "https://localhost:8080/"
        },
        "id": "jbZ-mdSnZQMo",
        "outputId": "7cbe2c77-6c01-45f9-fbbe-b9c31f6e8154"
      },
      "execution_count": null,
      "outputs": [
        {
          "output_type": "stream",
          "name": "stdout",
          "text": [
            "age: 15\n"
          ]
        }
      ]
    },
    {
      "cell_type": "code",
      "source": [
        "student.update({\"grade\":'B'})\n",
        "print(student)"
      ],
      "metadata": {
        "colab": {
          "base_uri": "https://localhost:8080/"
        },
        "id": "kbea_bP5aLx8",
        "outputId": "c0af0270-4682-45bf-adfc-65c9f7342a59"
      },
      "execution_count": null,
      "outputs": [
        {
          "output_type": "stream",
          "name": "stdout",
          "text": [
            "{'name': 'alice', 'age': 15, 'grade': 'B'}\n"
          ]
        }
      ]
    },
    {
      "cell_type": "code",
      "source": [
        "keys_list=student.keys()\n",
        "print(\"list of keys:\",keys_list)"
      ],
      "metadata": {
        "colab": {
          "base_uri": "https://localhost:8080/"
        },
        "id": "zex0doXUa90M",
        "outputId": "3daec0a7-d90b-4b65-80cf-bc4db66e845b"
      },
      "execution_count": null,
      "outputs": [
        {
          "output_type": "stream",
          "name": "stdout",
          "text": [
            "list of keys: dict_keys(['name', 'age', 'grade'])\n"
          ]
        }
      ]
    },
    {
      "cell_type": "code",
      "source": [
        "values_lists=student.values()\n",
        "print(\"list of values:\",values_lists)"
      ],
      "metadata": {
        "colab": {
          "base_uri": "https://localhost:8080/"
        },
        "id": "Hin8TkchcDde",
        "outputId": "28f43217-b2dd-4738-867f-a3653a087787"
      },
      "execution_count": null,
      "outputs": [
        {
          "output_type": "stream",
          "name": "stdout",
          "text": [
            "list of values: dict_values(['alice', 15, 'B'])\n"
          ]
        }
      ]
    },
    {
      "cell_type": "code",
      "source": [
        "items_list=student.items()\n",
        "print(\"list of items:\",items_list)"
      ],
      "metadata": {
        "colab": {
          "base_uri": "https://localhost:8080/"
        },
        "id": "RdkSPy4Fclmp",
        "outputId": "742006d7-4fd1-4a07-8ea9-fff1967735d2"
      },
      "execution_count": null,
      "outputs": [
        {
          "output_type": "stream",
          "name": "stdout",
          "text": [
            "list of items: dict_items([('name', 'alice'), ('age', 15), ('grade', 'B')])\n"
          ]
        }
      ]
    },
    {
      "cell_type": "code",
      "source": [
        "if 'grade' in student:\n",
        "  print(\"grade is present in student\")\n",
        "else:\n",
        "  print(\"grade is not present in student\")"
      ],
      "metadata": {
        "colab": {
          "base_uri": "https://localhost:8080/"
        },
        "id": "xkCt0DJ0eyvO",
        "outputId": "147c5407-ce1c-4376-95e0-5a2f88d6c1dc"
      },
      "execution_count": null,
      "outputs": [
        {
          "output_type": "stream",
          "name": "stdout",
          "text": [
            "grade is present in student\n"
          ]
        }
      ]
    },
    {
      "cell_type": "code",
      "source": [
        "def add_numbers(a,b):\n",
        "    c=a+b\n",
        "    return(c)\n",
        "\n",
        "x=5\n",
        "y=3\n",
        "z=add_numbers(x,y)\n",
        "print(\"the sum of 5 and 3 is:\",z)\n"
      ],
      "metadata": {
        "colab": {
          "base_uri": "https://localhost:8080/"
        },
        "id": "zdjoOOAmRMgB",
        "outputId": "9868e59a-6642-4e0f-e4b0-bba1d78e5c5f"
      },
      "execution_count": null,
      "outputs": [
        {
          "output_type": "stream",
          "name": "stdout",
          "text": [
            "the sum of 5 and 3 is: 8\n"
          ]
        }
      ]
    },
    {
      "cell_type": "code",
      "source": [
        "def calculate_square(a):\n",
        "    z=a**2\n",
        "    return(z)\n",
        "x=5\n",
        "y=calculate_square(x)\n",
        "print(\"the square of 5 is:\",y)\n"
      ],
      "metadata": {
        "colab": {
          "base_uri": "https://localhost:8080/"
        },
        "id": "JI57hR2dUe_u",
        "outputId": "0740bc89-dcdb-48e3-ff43-2dde033014c8"
      },
      "execution_count": null,
      "outputs": [
        {
          "output_type": "stream",
          "name": "stdout",
          "text": [
            "the square of 5 is: 25\n"
          ]
        }
      ]
    },
    {
      "cell_type": "code",
      "source": [
        "def greet_person(name,greeting=\"HI\"):\n",
        "     return greeting ,name\n",
        "\n",
        "\n",
        "greeting_message=greet_person(\"alice!\")\n",
        "print(greeting_message)\n",
        "\n",
        "\n",
        "\n"
      ],
      "metadata": {
        "colab": {
          "base_uri": "https://localhost:8080/"
        },
        "id": "R86V7T6hWlOp",
        "outputId": "887e9506-950a-4f72-ea72-f0387d302b34"
      },
      "execution_count": null,
      "outputs": [
        {
          "output_type": "stream",
          "name": "stdout",
          "text": [
            "('HI', 'alice!')\n"
          ]
        }
      ]
    },
    {
      "cell_type": "code",
      "source": [
        "def calculate_area(length,width=1):\n",
        "     area=length*width\n",
        "     return \"the area of the rectangle is :\",area\n",
        "\n",
        "\n",
        "y=5\n",
        "x=calculate_area(y)\n",
        "print(x)\n",
        "\n"
      ],
      "metadata": {
        "colab": {
          "base_uri": "https://localhost:8080/"
        },
        "id": "9pQlL5-JrVO5",
        "outputId": "ca7ebc37-8035-46d5-8f66-4cbc97c993e0"
      },
      "execution_count": null,
      "outputs": [
        {
          "output_type": "stream",
          "name": "stdout",
          "text": [
            "('the area of the rectangle is :', 5)\n"
          ]
        }
      ]
    },
    {
      "cell_type": "code",
      "source": [
        "def calculate_power(a,b):\n",
        "    c=a**b\n",
        "    return(c)\n",
        "\n",
        "\n",
        "z=calculate_power(2,3)\n",
        "print(\"2 raised to the power of 3 is:\",z)"
      ],
      "metadata": {
        "colab": {
          "base_uri": "https://localhost:8080/"
        },
        "id": "m3e_3qJNQ9BA",
        "outputId": "cf7ceae7-e96a-4633-d2e7-faa0cccd1737"
      },
      "execution_count": null,
      "outputs": [
        {
          "output_type": "stream",
          "name": "stdout",
          "text": [
            "2 raised to the power of 3 is: 8\n"
          ]
        }
      ]
    },
    {
      "cell_type": "code",
      "source": [
        "def person_info(name,age,country):\n",
        "    a=name\n",
        "    b=age\n",
        "    c=\"country:\",\"india\"\n",
        "    return a,b,c\n",
        "\n",
        "\n",
        "x=\"name:\",\"alice\"\n",
        "y=\"age:\",\"16\"\n",
        "s=person_info(x,y,country=\"india\")\n",
        "print(\"personal information:\",s)"
      ],
      "metadata": {
        "colab": {
          "base_uri": "https://localhost:8080/"
        },
        "id": "yZjzRMYSUM26",
        "outputId": "3bd4a525-3594-4920-f22d-115931d1e6c4"
      },
      "execution_count": null,
      "outputs": [
        {
          "output_type": "stream",
          "name": "stdout",
          "text": [
            "personal information: (('name:', 'alice'), ('age:', '16'), ('country:', 'india'))\n"
          ]
        }
      ]
    },
    {
      "cell_type": "code",
      "source": [
        "def greet_person(name,greeting=\"hello\"):\n",
        "    return f\"{greeting},{name}\"\n",
        "\n",
        "\n",
        "greeting_message_default=greet_person(\"alice\")\n",
        "print(greeting_message_default)\n",
        "greeting_message=greet_person(\"bob\",\"hi there\")\n",
        "print(greeting_message)\n"
      ],
      "metadata": {
        "colab": {
          "base_uri": "https://localhost:8080/"
        },
        "id": "TxCiyYnRcWDq",
        "outputId": "2f2826c3-4042-4c45-f890-0299884da18d"
      },
      "execution_count": null,
      "outputs": [
        {
          "output_type": "stream",
          "name": "stdout",
          "text": [
            "hello,alice\n",
            "hi there,bob\n"
          ]
        }
      ]
    },
    {
      "cell_type": "code",
      "source": [
        "def calculate_interest(principle,rate,time):\n",
        "    interest=(principle*rate*time)/100\n",
        "    print(\"the simple interest is:\",interest)\n",
        "\n",
        "x=1000\n",
        "y=5\n",
        "calculate_interest(x,y,time=2)\n",
        "print()"
      ],
      "metadata": {
        "colab": {
          "base_uri": "https://localhost:8080/"
        },
        "id": "xh2Gr4lTfRc7",
        "outputId": "e6946888-8785-4e37-d78b-d48a6aaceecb"
      },
      "execution_count": null,
      "outputs": [
        {
          "output_type": "stream",
          "name": "stdout",
          "text": [
            "the simple interest is: 100.0\n",
            "\n"
          ]
        }
      ]
    },
    {
      "cell_type": "code",
      "source": [
        "square=lambda a:a**2\n",
        "print(square(5))"
      ],
      "metadata": {
        "colab": {
          "base_uri": "https://localhost:8080/"
        },
        "id": "stk0PZnUjd1L",
        "outputId": "f15e1c9d-7c5b-4f74-dfd8-fbb2287b7cdf"
      },
      "execution_count": null,
      "outputs": [
        {
          "output_type": "stream",
          "name": "stdout",
          "text": [
            "25\n"
          ]
        }
      ]
    },
    {
      "cell_type": "code",
      "source": [
        "def filter_even(numbers,filter_function):\n",
        "    return list(filter(filter_function,numbers))\n",
        "\n",
        "\n",
        "numbers=[1,2,3,4,5,6]\n",
        "even_numbers=filter_even(numbers,lambda x: x%2==0)\n",
        "print(\"even numbers:\",even_numbers)\n",
        "\n",
        "\n"
      ],
      "metadata": {
        "colab": {
          "base_uri": "https://localhost:8080/"
        },
        "id": "dwqPkU42jx4J",
        "outputId": "0984cce4-0dfb-4f41-8c70-dd35a6d90228"
      },
      "execution_count": null,
      "outputs": [
        {
          "output_type": "stream",
          "name": "stdout",
          "text": [
            "even numbers: [2, 4, 6]\n"
          ]
        }
      ]
    },
    {
      "cell_type": "code",
      "source": [
        "def function_is_even(a):\n",
        "   if a%2==0:\n",
        "    return(True)\n",
        "   else:\n",
        "    return(False)\n",
        "\n",
        "\n",
        "x=7\n",
        "y=function_is_even(x)\n",
        "print(y)\n"
      ],
      "metadata": {
        "colab": {
          "base_uri": "https://localhost:8080/"
        },
        "id": "gLkebVpyu6jM",
        "outputId": "6f8c9b0a-385c-4ca3-ab8b-7982480e6f13"
      },
      "execution_count": null,
      "outputs": [
        {
          "output_type": "stream",
          "name": "stdout",
          "text": [
            "False\n"
          ]
        }
      ]
    },
    {
      "cell_type": "code",
      "source": [
        "def sum_all(*args):\n",
        "  return sum(args)\n",
        "\n",
        "\n",
        "def sum_all_from_input():\n",
        "  numbers_input=input(\"enter numbersseprated by space:\")\n",
        "  numbers=map(int,numbers_input.split())\n",
        "  result=sum_all(*numbers)\n",
        "  return result\n",
        "\n",
        "print(sum_all_from_input())\n"
      ],
      "metadata": {
        "colab": {
          "base_uri": "https://localhost:8080/"
        },
        "id": "WgvYLBsnXB9K",
        "outputId": "a7cba649-a31d-44f3-a29b-b0059930bc13"
      },
      "execution_count": null,
      "outputs": [
        {
          "output_type": "stream",
          "name": "stdout",
          "text": [
            "enter numbersseprated by space:5 10 15 20\n",
            "50\n"
          ]
        }
      ]
    },
    {
      "cell_type": "code",
      "source": [
        "def split_name(full_name):\n",
        "    return(full_name)\n",
        "\n",
        "x=input(\"enter full name\")\n",
        "full_name=(tuple(x.split()))\n",
        "result=split_name(full_name)\n",
        "print(result)\n"
      ],
      "metadata": {
        "colab": {
          "base_uri": "https://localhost:8080/"
        },
        "id": "fr1DxhxqiPBY",
        "outputId": "19809df3-3022-437f-befd-399822020a52"
      },
      "execution_count": null,
      "outputs": [
        {
          "output_type": "stream",
          "name": "stdout",
          "text": [
            "enter full namejohn doe\n",
            "('john', 'doe')\n"
          ]
        }
      ]
    },
    {
      "cell_type": "code",
      "source": [
        "def is_vowel(character):\n",
        "    vowels='aeiouAEIOU'\n",
        "    return character in vowels\n",
        "\n",
        "\n",
        "y=input(str(\"enter the character:\"))\n",
        "result=is_vowel(y)\n",
        "print(result)\n",
        "\n",
        "\n"
      ],
      "metadata": {
        "colab": {
          "base_uri": "https://localhost:8080/"
        },
        "id": "nW6jUCONmbDp",
        "outputId": "617d5ca2-6e64-4bfe-a29e-c79b3efd94ca"
      },
      "execution_count": null,
      "outputs": [
        {
          "output_type": "stream",
          "name": "stdout",
          "text": [
            "enter the character:A\n",
            "True\n"
          ]
        }
      ]
    },
    {
      "cell_type": "code",
      "source": [
        "def print_items(*args):\n",
        "    for item in args:\n",
        "       print(item)\n",
        "\n",
        "\n",
        "item=input(\"enter the items:\")\n",
        "result=print_items(item)\n",
        "print()\n",
        "\n"
      ],
      "metadata": {
        "colab": {
          "base_uri": "https://localhost:8080/"
        },
        "id": "YJjivewsfP6P",
        "outputId": "729b0e4e-91d5-418b-a4a2-b3e5b956c743"
      },
      "execution_count": null,
      "outputs": [
        {
          "output_type": "stream",
          "name": "stdout",
          "text": [
            "enter the items:apple banana orange\n",
            "apple banana orange\n",
            "\n"
          ]
        }
      ]
    },
    {
      "cell_type": "code",
      "source": [
        "def create_person(name,age,country,*args):\n",
        "      person_info={\"name\":name,\"age\":age,\"country\":country}\n",
        "      return person_info\n",
        "\n",
        "x=input(\"enter the name:\")\n",
        "y=input(\"enter the age:\")\n",
        "z=input(\"enter the country:\")\n",
        "result=create_person(x,y,z)\n",
        "print(result)\n"
      ],
      "metadata": {
        "colab": {
          "base_uri": "https://localhost:8080/"
        },
        "id": "SoHgz60TsIKM",
        "outputId": "a246bf95-bf1f-4f87-de1c-0a635be5db41"
      },
      "execution_count": null,
      "outputs": [
        {
          "output_type": "stream",
          "name": "stdout",
          "text": [
            "enter the name:alice\n",
            "enter the age:16\n",
            "enter the country:india\n",
            "{'name': 'alice', 'age': '16', 'country': 'india'}\n"
          ]
        }
      ]
    },
    {
      "cell_type": "code",
      "source": [
        "\n",
        "def calculate_product(*args):\n",
        "    result=1\n",
        "    for num in args:\n",
        "      result*=num\n",
        "    return result\n",
        "\n",
        "print(calculate_product(2,3,4))\n",
        "\n",
        "\n"
      ],
      "metadata": {
        "colab": {
          "base_uri": "https://localhost:8080/"
        },
        "id": "kqxihxZIwiwH",
        "outputId": "8c8fcda7-49a5-46d6-9a41-45bffec87c15"
      },
      "execution_count": null,
      "outputs": [
        {
          "output_type": "stream",
          "name": "stdout",
          "text": [
            "24\n"
          ]
        }
      ]
    }
  ]
}