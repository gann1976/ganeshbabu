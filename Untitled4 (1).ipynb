{
  "nbformat": 4,
  "nbformat_minor": 0,
  "metadata": {
    "colab": {
      "provenance": []
    },
    "kernelspec": {
      "name": "python3",
      "display_name": "Python 3"
    },
    "language_info": {
      "name": "python"
    }
  },
  "cells": [
    {
      "cell_type": "code",
      "execution_count": null,
      "metadata": {
        "colab": {
          "base_uri": "https://localhost:8080/"
        },
        "id": "-HfQxq15yNU-",
        "outputId": "8cc1650c-dc67-4eeb-86f3-a93f33b18106"
      },
      "outputs": [
        {
          "output_type": "stream",
          "name": "stdout",
          "text": [
            "[3, 4, 5, 6, 7]\n"
          ]
        }
      ],
      "source": [
        "s=[6,5,7,4,3]\n",
        "print(sorted(s))"
      ]
    },
    {
      "cell_type": "code",
      "source": [
        "a=[5,2,8,1,7]\n",
        "print(\"minvalue\",min(a))"
      ],
      "metadata": {
        "colab": {
          "base_uri": "https://localhost:8080/"
        },
        "id": "wM44sv4fzHft",
        "outputId": "54de1f48-280e-404e-e1b7-5be85898905a"
      },
      "execution_count": null,
      "outputs": [
        {
          "output_type": "stream",
          "name": "stdout",
          "text": [
            "minvalue 1\n"
          ]
        }
      ]
    },
    {
      "cell_type": "code",
      "source": [
        "print(\"maximum value\",max(a))"
      ],
      "metadata": {
        "colab": {
          "base_uri": "https://localhost:8080/"
        },
        "id": "woCAO4Rq0uS9",
        "outputId": "03c4ae81-0d58-4831-a8d9-156b4995ec79"
      },
      "execution_count": null,
      "outputs": [
        {
          "output_type": "stream",
          "name": "stdout",
          "text": [
            "maximum value 8\n"
          ]
        }
      ]
    },
    {
      "cell_type": "code",
      "source": [
        "b=3.14159\n",
        "print(round (b,2))"
      ],
      "metadata": {
        "colab": {
          "base_uri": "https://localhost:8080/"
        },
        "id": "ZMADE1ej09l2",
        "outputId": "c3525e0c-8748-43f2-f49d-332aa006046c"
      },
      "execution_count": null,
      "outputs": [
        {
          "output_type": "stream",
          "name": "stdout",
          "text": [
            "3.14\n"
          ]
        }
      ]
    },
    {
      "cell_type": "code",
      "source": [
        "a=-10\n",
        "print(\"absolute value\",abs(a))"
      ],
      "metadata": {
        "colab": {
          "base_uri": "https://localhost:8080/"
        },
        "id": "3FdBzhAb0ECf",
        "outputId": "0f100617-4333-4f02-cce9-08d88799e6e1"
      },
      "execution_count": null,
      "outputs": [
        {
          "output_type": "stream",
          "name": "stdout",
          "text": [
            "absolute value 10\n"
          ]
        }
      ]
    },
    {
      "cell_type": "code",
      "source": [
        "c=[1,2,3,4,5]\n",
        "print(\"sum\",sum(c))"
      ],
      "metadata": {
        "colab": {
          "base_uri": "https://localhost:8080/"
        },
        "id": "PyV5ElMy2Yg8",
        "outputId": "7e9f5754-96ef-4d70-8efa-b7e12b667b17"
      },
      "execution_count": null,
      "outputs": [
        {
          "output_type": "stream",
          "name": "stdout",
          "text": [
            "sum 15\n"
          ]
        }
      ]
    },
    {
      "cell_type": "code",
      "source": [
        "a=range(1,6)\n",
        "list(a)"
      ],
      "metadata": {
        "colab": {
          "base_uri": "https://localhost:8080/"
        },
        "id": "-B_5_wkW2xYr",
        "outputId": "2dc3e3ca-2daf-4b2d-bd03-cbca34db2c4d"
      },
      "execution_count": null,
      "outputs": [
        {
          "output_type": "execute_result",
          "data": {
            "text/plain": [
              "[1, 2, 3, 4, 5]"
            ]
          },
          "metadata": {},
          "execution_count": 28
        }
      ]
    },
    {
      "cell_type": "code",
      "source": [
        "set(a)"
      ],
      "metadata": {
        "colab": {
          "base_uri": "https://localhost:8080/"
        },
        "id": "DKJs3wc73YGO",
        "outputId": "06ec658d-3f3b-4469-c121-5174157dc94f"
      },
      "execution_count": null,
      "outputs": [
        {
          "output_type": "execute_result",
          "data": {
            "text/plain": [
              "{1, 2, 3, 4, 5}"
            ]
          },
          "metadata": {},
          "execution_count": 29
        }
      ]
    },
    {
      "cell_type": "code",
      "source": [
        "tuple(a)"
      ],
      "metadata": {
        "colab": {
          "base_uri": "https://localhost:8080/"
        },
        "id": "hwIxqWWa3bXI",
        "outputId": "20da1d64-5c2c-43c3-e74f-d63c70d03433"
      },
      "execution_count": null,
      "outputs": [
        {
          "output_type": "execute_result",
          "data": {
            "text/plain": [
              "(1, 2, 3, 4, 5)"
            ]
          },
          "metadata": {},
          "execution_count": 30
        }
      ]
    },
    {
      "cell_type": "code",
      "source": [
        "\n",
        "len(\"phthon\")"
      ],
      "metadata": {
        "colab": {
          "base_uri": "https://localhost:8080/"
        },
        "id": "yyL8XWD24tpY",
        "outputId": "4d1d25ef-6983-4ab9-8446-7f59664bc27c"
      },
      "execution_count": null,
      "outputs": [
        {
          "output_type": "execute_result",
          "data": {
            "text/plain": [
              "6"
            ]
          },
          "metadata": {},
          "execution_count": 70
        }
      ]
    },
    {
      "cell_type": "code",
      "source": [
        "type(\"phthon\")"
      ],
      "metadata": {
        "colab": {
          "base_uri": "https://localhost:8080/"
        },
        "id": "XQVqjMs65qjj",
        "outputId": "42fd0c90-4590-417d-a3ab-46e58512138b"
      },
      "execution_count": null,
      "outputs": [
        {
          "output_type": "execute_result",
          "data": {
            "text/plain": [
              "str"
            ]
          },
          "metadata": {},
          "execution_count": 51
        }
      ]
    },
    {
      "cell_type": "code",
      "source": [
        "a=\"42\"\n",
        "int(a)"
      ],
      "metadata": {
        "colab": {
          "base_uri": "https://localhost:8080/"
        },
        "id": "YSpiN8U_5BPV",
        "outputId": "9215e03a-2bc4-4a0d-b0b1-cd2865250796"
      },
      "execution_count": null,
      "outputs": [
        {
          "output_type": "execute_result",
          "data": {
            "text/plain": [
              "42"
            ]
          },
          "metadata": {},
          "execution_count": 45
        }
      ]
    },
    {
      "cell_type": "code",
      "source": [
        "float(a)"
      ],
      "metadata": {
        "colab": {
          "base_uri": "https://localhost:8080/"
        },
        "id": "DUgD6EE85aRr",
        "outputId": "589be69d-4ed1-4c5d-c8cd-69901e1bde73"
      },
      "execution_count": null,
      "outputs": [
        {
          "output_type": "execute_result",
          "data": {
            "text/plain": [
              "42.0"
            ]
          },
          "metadata": {},
          "execution_count": 46
        }
      ]
    },
    {
      "cell_type": "code",
      "source": [
        "str(a)"
      ],
      "metadata": {
        "colab": {
          "base_uri": "https://localhost:8080/",
          "height": 36
        },
        "id": "EMxOytBN5eke",
        "outputId": "42bcc50c-bf26-422d-9222-e653580b8180"
      },
      "execution_count": null,
      "outputs": [
        {
          "output_type": "execute_result",
          "data": {
            "text/plain": [
              "'42'"
            ],
            "application/vnd.google.colaboratory.intrinsic+json": {
              "type": "string"
            }
          },
          "metadata": {},
          "execution_count": 47
        }
      ]
    },
    {
      "cell_type": "code",
      "source": [
        "input(\"Enter your name:\")"
      ],
      "metadata": {
        "id": "uvu9pmRo6AkK",
        "colab": {
          "base_uri": "https://localhost:8080/",
          "height": 53
        },
        "outputId": "b882c075-2567-42dd-e9e3-e4dde5eb719a"
      },
      "execution_count": null,
      "outputs": [
        {
          "name": "stdout",
          "output_type": "stream",
          "text": [
            "Enter your name:GANESH\n"
          ]
        },
        {
          "output_type": "execute_result",
          "data": {
            "text/plain": [
              "'GANESH'"
            ],
            "application/vnd.google.colaboratory.intrinsic+json": {
              "type": "string"
            }
          },
          "metadata": {},
          "execution_count": 5
        }
      ]
    },
    {
      "cell_type": "code",
      "source": [
        "print(\"hello,Alice! welcome to the program \")"
      ],
      "metadata": {
        "colab": {
          "base_uri": "https://localhost:8080/"
        },
        "id": "1PUoRkRJ7Azo",
        "outputId": "dcfaa0be-8ba7-43d0-973e-9e5bb15daf37"
      },
      "execution_count": null,
      "outputs": [
        {
          "output_type": "stream",
          "name": "stdout",
          "text": [
            "hello,Alice! welcome to the program \n"
          ]
        }
      ]
    },
    {
      "cell_type": "code",
      "source": [
        "a=[7,9,6,10,8]\n",
        "sorted(a)"
      ],
      "metadata": {
        "colab": {
          "base_uri": "https://localhost:8080/"
        },
        "id": "8wajTB0f9U_E",
        "outputId": "4ad7db11-1269-4fed-fe59-93389dda96e1"
      },
      "execution_count": null,
      "outputs": [
        {
          "output_type": "execute_result",
          "data": {
            "text/plain": [
              "[6, 7, 8, 9, 10]"
            ]
          },
          "metadata": {},
          "execution_count": 60
        }
      ]
    },
    {
      "cell_type": "code",
      "source": [
        "sorted((7,9,6,10,8),reverse=True)"
      ],
      "metadata": {
        "colab": {
          "base_uri": "https://localhost:8080/"
        },
        "id": "gcZgVerh9lhb",
        "outputId": "60fbf955-4da7-413b-8f91-676f926f3328"
      },
      "execution_count": null,
      "outputs": [
        {
          "output_type": "execute_result",
          "data": {
            "text/plain": [
              "[10, 9, 8, 7, 6]"
            ]
          },
          "metadata": {},
          "execution_count": 66
        }
      ]
    },
    {
      "cell_type": "code",
      "source": [
        "\n",
        "for i in range(1,5):\n",
        "  for j in range(i):\n",
        "    print(\"*\", end=\"\")\n",
        "    print()"
      ],
      "metadata": {
        "colab": {
          "base_uri": "https://localhost:8080/"
        },
        "id": "HFJMjTgHDh_B",
        "outputId": "19c76cb4-a41b-4832-dcac-6ce47423bf33"
      },
      "execution_count": null,
      "outputs": [
        {
          "output_type": "stream",
          "name": "stdout",
          "text": [
            "*  \n",
            "*  \n",
            "*  \n",
            "*  \n",
            "*  \n",
            "*  \n",
            "*  \n",
            "*  \n",
            "*  \n",
            "*  \n"
          ]
        }
      ]
    },
    {
      "cell_type": "code",
      "source": [
        "sum=0\n",
        "c=0\n",
        "while(c<5):\n",
        "  x=int(input(\"enter the integar:\"))\n",
        "  sum=sum+x\n",
        "  sum1=sum/5\n",
        "  c=c+1\n",
        "  print(\"the average value is\",sum1)"
      ],
      "metadata": {
        "colab": {
          "base_uri": "https://localhost:8080/"
        },
        "id": "efFHMG4eMJm8",
        "outputId": "81913f24-8df7-45f7-c328-ca838e36236d"
      },
      "execution_count": null,
      "outputs": [
        {
          "output_type": "stream",
          "name": "stdout",
          "text": [
            "enter the integar:10\n",
            "the average value is 2.0\n",
            "enter the integar:20\n",
            "the average value is 6.0\n",
            "enter the integar:30\n",
            "the average value is 12.0\n",
            "enter the integar:40\n",
            "the average value is 20.0\n",
            "enter the integar:50\n",
            "the average value is 30.0\n"
          ]
        }
      ]
    },
    {
      "cell_type": "code",
      "source": [
        "a=10\n",
        "int(a)"
      ],
      "metadata": {
        "colab": {
          "base_uri": "https://localhost:8080/"
        },
        "id": "32cjPQoIOB-_",
        "outputId": "d39c03c0-b208-4d13-fb71-a860d712a9d8"
      },
      "execution_count": null,
      "outputs": [
        {
          "output_type": "execute_result",
          "data": {
            "text/plain": [
              "10"
            ]
          },
          "metadata": {},
          "execution_count": 134
        }
      ]
    },
    {
      "cell_type": "code",
      "source": [
        "float(a)"
      ],
      "metadata": {
        "colab": {
          "base_uri": "https://localhost:8080/"
        },
        "id": "DXKvkbLLOUyt",
        "outputId": "c1ea0304-7d2d-49bc-b20e-5e66c7121fa6"
      },
      "execution_count": null,
      "outputs": [
        {
          "output_type": "execute_result",
          "data": {
            "text/plain": [
              "10.0"
            ]
          },
          "metadata": {},
          "execution_count": 135
        }
      ]
    },
    {
      "cell_type": "code",
      "source": [
        "input(\"your name\")\n",
        "str(\"your name\")"
      ],
      "metadata": {
        "colab": {
          "base_uri": "https://localhost:8080/",
          "height": 53
        },
        "id": "M9MtbAx6ObnR",
        "outputId": "b598bd52-9554-44d0-f92f-0bb18c9ed3bd"
      },
      "execution_count": null,
      "outputs": [
        {
          "name": "stdout",
          "output_type": "stream",
          "text": [
            "your nameganesh\n"
          ]
        },
        {
          "output_type": "execute_result",
          "data": {
            "text/plain": [
              "'your name'"
            ],
            "application/vnd.google.colaboratory.intrinsic+json": {
              "type": "string"
            }
          },
          "metadata": {},
          "execution_count": 143
        }
      ]
    },
    {
      "cell_type": "code",
      "source": [
        "logged_in=True\n",
        "bool(logged_in)"
      ],
      "metadata": {
        "colab": {
          "base_uri": "https://localhost:8080/"
        },
        "id": "YYtOkrhcPeK5",
        "outputId": "5a8a4734-1718-4d2e-f267-e5a48b7333df"
      },
      "execution_count": null,
      "outputs": [
        {
          "output_type": "execute_result",
          "data": {
            "text/plain": [
              "True"
            ]
          },
          "metadata": {},
          "execution_count": 154
        }
      ]
    },
    {
      "cell_type": "code",
      "source": [
        "logged_out=False\n",
        "bool(logged_out)"
      ],
      "metadata": {
        "colab": {
          "base_uri": "https://localhost:8080/"
        },
        "id": "U9_p-1HWQZpR",
        "outputId": "b1092455-266c-438c-89f3-969e61dee162"
      },
      "execution_count": null,
      "outputs": [
        {
          "output_type": "execute_result",
          "data": {
            "text/plain": [
              "False"
            ]
          },
          "metadata": {},
          "execution_count": 153
        }
      ]
    },
    {
      "cell_type": "code",
      "source": [
        "user_name=input(\"enter your name:\")"
      ],
      "metadata": {
        "colab": {
          "base_uri": "https://localhost:8080/"
        },
        "id": "BrdQwfxJRLrc",
        "outputId": "1188ab89-3e24-46e9-a363-50fac182442c"
      },
      "execution_count": null,
      "outputs": [
        {
          "name": "stdout",
          "output_type": "stream",
          "text": [
            "enter your name:ganesh\n"
          ]
        }
      ]
    },
    {
      "cell_type": "code",
      "source": [
        "user_age=input(\"enter your age\")\n",
        "print(f\"enter your age is:{user_age}\")"
      ],
      "metadata": {
        "colab": {
          "base_uri": "https://localhost:8080/"
        },
        "id": "uxmvO2R1Rk-Q",
        "outputId": "c31ef233-f4f7-4c52-db86-ee3945a0cc32"
      },
      "execution_count": null,
      "outputs": [
        {
          "output_type": "stream",
          "name": "stdout",
          "text": [
            "enter your age48\n",
            "enter your age is:48\n"
          ]
        }
      ]
    },
    {
      "cell_type": "code",
      "source": [
        "a=10\n",
        "b=3\n",
        "print(a+b)"
      ],
      "metadata": {
        "colab": {
          "base_uri": "https://localhost:8080/"
        },
        "id": "XIbBjmydSdDI",
        "outputId": "38a18617-8895-4f1e-ecf1-e6536b76316f"
      },
      "execution_count": null,
      "outputs": [
        {
          "output_type": "stream",
          "name": "stdout",
          "text": [
            "13\n"
          ]
        }
      ]
    },
    {
      "cell_type": "code",
      "source": [
        "print(a-b)"
      ],
      "metadata": {
        "colab": {
          "base_uri": "https://localhost:8080/"
        },
        "id": "Hs9bW3qgTE0u",
        "outputId": "156e4b07-1b03-48ca-a155-1d74395b198e"
      },
      "execution_count": null,
      "outputs": [
        {
          "output_type": "stream",
          "name": "stdout",
          "text": [
            "7\n"
          ]
        }
      ]
    },
    {
      "cell_type": "code",
      "source": [
        "print(a*b)\n",
        "print(a**b)\n"
      ],
      "metadata": {
        "colab": {
          "base_uri": "https://localhost:8080/"
        },
        "id": "a4eUtuGbTLcZ",
        "outputId": "80bf30b9-63d0-4229-8ee7-26d4a2fe71da"
      },
      "execution_count": null,
      "outputs": [
        {
          "output_type": "stream",
          "name": "stdout",
          "text": [
            "30\n",
            "1000\n"
          ]
        }
      ]
    },
    {
      "cell_type": "code",
      "source": [
        "print(round(a/b,2))"
      ],
      "metadata": {
        "colab": {
          "base_uri": "https://localhost:8080/"
        },
        "id": "9pNOw9PvTaKZ",
        "outputId": "b063e1fe-f565-4ef7-b9ce-c72fa4c53d10"
      },
      "execution_count": null,
      "outputs": [
        {
          "output_type": "stream",
          "name": "stdout",
          "text": [
            "3.33\n"
          ]
        }
      ]
    },
    {
      "cell_type": "code",
      "source": [
        "a=17\n",
        "b=5\n",
        "print(a%b)"
      ],
      "metadata": {
        "colab": {
          "base_uri": "https://localhost:8080/"
        },
        "id": "hl2VfFn-Tq2Y",
        "outputId": "a9d851a1-b9ad-4d6a-dc31-017b8bb76de3"
      },
      "execution_count": null,
      "outputs": [
        {
          "output_type": "stream",
          "name": "stdout",
          "text": [
            "2\n"
          ]
        }
      ]
    },
    {
      "cell_type": "code",
      "source": [
        "a=10\n",
        "b=3\n",
        "print(a==b)\n"
      ],
      "metadata": {
        "colab": {
          "base_uri": "https://localhost:8080/"
        },
        "id": "JTe4Q2WLT5Fj",
        "outputId": "cc85c9e4-ef5d-4a27-bd90-ac00e1153d1e"
      },
      "execution_count": null,
      "outputs": [
        {
          "output_type": "stream",
          "name": "stdout",
          "text": [
            "False\n"
          ]
        }
      ]
    },
    {
      "cell_type": "code",
      "source": [
        "print(a!=b)\n",
        "print(a<b)\n",
        "print(a>b)\n",
        "print(a<=b)\n",
        "print(a>=b)"
      ],
      "metadata": {
        "colab": {
          "base_uri": "https://localhost:8080/"
        },
        "id": "TF1VR5nrVbMQ",
        "outputId": "1838c54c-4c16-44f5-8db7-ca3bd50b153e"
      },
      "execution_count": null,
      "outputs": [
        {
          "output_type": "stream",
          "name": "stdout",
          "text": [
            "True\n",
            "False\n",
            "True\n",
            "False\n",
            "True\n"
          ]
        }
      ]
    },
    {
      "cell_type": "code",
      "source": [
        "a=5\n",
        "print(a>5 and a==5)"
      ],
      "metadata": {
        "colab": {
          "base_uri": "https://localhost:8080/"
        },
        "id": "_Av7_mPzWswh",
        "outputId": "d71f9cda-a993-45d6-e51d-45eafffa9fa4"
      },
      "execution_count": null,
      "outputs": [
        {
          "output_type": "stream",
          "name": "stdout",
          "text": [
            "False\n"
          ]
        }
      ]
    },
    {
      "cell_type": "code",
      "source": [
        "print(not(a==5))"
      ],
      "metadata": {
        "colab": {
          "base_uri": "https://localhost:8080/"
        },
        "id": "jDTDMwrFX-tO",
        "outputId": "1fae67d8-a4f8-4a91-f341-fb802e9ca960"
      },
      "execution_count": null,
      "outputs": [
        {
          "output_type": "stream",
          "name": "stdout",
          "text": [
            "False\n"
          ]
        }
      ]
    },
    {
      "cell_type": "code",
      "source": [
        "print(not(a>5))"
      ],
      "metadata": {
        "colab": {
          "base_uri": "https://localhost:8080/"
        },
        "id": "x2gIvjnyYIs0",
        "outputId": "7ac963bb-2fe2-4c97-b46b-11032c843026"
      },
      "execution_count": null,
      "outputs": [
        {
          "output_type": "stream",
          "name": "stdout",
          "text": [
            "True\n"
          ]
        }
      ]
    },
    {
      "cell_type": "code",
      "source": [
        "obj1=\"hello\"\n",
        "obj2=\"hello world\"\n",
        "print(obj1 is obj2)"
      ],
      "metadata": {
        "colab": {
          "base_uri": "https://localhost:8080/"
        },
        "id": "7IFl2cM-YVts",
        "outputId": "81e301ee-4d4e-406c-a17d-d396acf1c72a"
      },
      "execution_count": null,
      "outputs": [
        {
          "output_type": "stream",
          "name": "stdout",
          "text": [
            "False\n"
          ]
        }
      ]
    },
    {
      "cell_type": "code",
      "source": [
        "print(obj1 is not obj2)"
      ],
      "metadata": {
        "colab": {
          "base_uri": "https://localhost:8080/"
        },
        "id": "Vwnl5PiXZPE9",
        "outputId": "e56a2613-299e-4903-9394-a5317256ed59"
      },
      "execution_count": null,
      "outputs": [
        {
          "output_type": "stream",
          "name": "stdout",
          "text": [
            "True\n"
          ]
        }
      ]
    },
    {
      "cell_type": "code",
      "source": [
        "print(a>3 or a<5)"
      ],
      "metadata": {
        "colab": {
          "base_uri": "https://localhost:8080/"
        },
        "id": "NyvSRF-RXkGm",
        "outputId": "a8b22864-ee0e-4d4c-94f7-f1ed7238fadc"
      },
      "execution_count": null,
      "outputs": [
        {
          "output_type": "stream",
          "name": "stdout",
          "text": [
            "True\n"
          ]
        }
      ]
    },
    {
      "cell_type": "code",
      "source": [
        "var1=\"apple is a fruit\"\n",
        "var2=\"apple\"\n",
        "print(var2 in var1)"
      ],
      "metadata": {
        "colab": {
          "base_uri": "https://localhost:8080/"
        },
        "id": "05HK2FD3ZgSy",
        "outputId": "5de1c03c-7eb1-4205-d0a1-273302ef1b47"
      },
      "execution_count": null,
      "outputs": [
        {
          "output_type": "stream",
          "name": "stdout",
          "text": [
            "True\n"
          ]
        }
      ]
    },
    {
      "cell_type": "code",
      "source": [
        "print(var2 not in var1)"
      ],
      "metadata": {
        "colab": {
          "base_uri": "https://localhost:8080/"
        },
        "id": "QLxhrqcXZ1Wu",
        "outputId": "f3dd23cb-3b2a-4c18-c427-ee59e7fa62ec"
      },
      "execution_count": null,
      "outputs": [
        {
          "output_type": "stream",
          "name": "stdout",
          "text": [
            "False\n"
          ]
        }
      ]
    },
    {
      "cell_type": "code",
      "source": [
        "\n",
        "num1=5\n",
        "num2=10\n",
        "if(num2>num1):\n",
        "  print(f\"{num2} is greater than {num1}\")\n",
        "else:\n",
        "  print(f\"{num2} is not greater than {num1}\")\n",
        "\n",
        "\n"
      ],
      "metadata": {
        "colab": {
          "base_uri": "https://localhost:8080/"
        },
        "id": "VnA7gGOJyl86",
        "outputId": "7c645731-690f-44d4-8266-3a4896c66751"
      },
      "execution_count": null,
      "outputs": [
        {
          "output_type": "stream",
          "name": "stdout",
          "text": [
            "10 is greater than 5\n"
          ]
        }
      ]
    },
    {
      "cell_type": "code",
      "source": [
        "n=1\n",
        "for n in range(1,6):\n",
        "  n=n\n",
        "  print(n)"
      ],
      "metadata": {
        "colab": {
          "base_uri": "https://localhost:8080/"
        },
        "id": "0A4JNVNq1ylk",
        "outputId": "09515bea-c68b-4527-e1af-ae958e3fb8f3"
      },
      "execution_count": null,
      "outputs": [
        {
          "output_type": "stream",
          "name": "stdout",
          "text": [
            "1\n",
            "2\n",
            "3\n",
            "4\n",
            "5\n"
          ]
        }
      ]
    },
    {
      "cell_type": "code",
      "source": [
        "\n",
        "for n in range(1,6):\n",
        "  for k in range(5,6):\n",
        "    print(k,\"*\",n,\"=\",n*k)\n"
      ],
      "metadata": {
        "colab": {
          "base_uri": "https://localhost:8080/"
        },
        "id": "-ZuYD5w-4XAW",
        "outputId": "c4613175-4764-4db7-ec68-df31c9a19dc3"
      },
      "execution_count": null,
      "outputs": [
        {
          "output_type": "stream",
          "name": "stdout",
          "text": [
            "5 * 1 = 5\n",
            "5 * 2 = 10\n",
            "5 * 3 = 15\n",
            "5 * 4 = 20\n",
            "5 * 5 = 25\n"
          ]
        }
      ]
    },
    {
      "cell_type": "code",
      "source": [
        "\n",
        "\n",
        "GRADE=input(\"enter the studentsgrade is:\" )\n",
        "if GRADE == \"A\":\n",
        "  print(\"EXCELLENT\")\n",
        "elif GRADE == \"B\":\n",
        "  print(\"GOOD\")\n",
        "elif GRADE ==\"C\":\n",
        "  print(\"SATISFACTORY\")\n",
        "elif GRADE == \"D\":\n",
        "  print(\"NEEDS IMPROVEMENT\")\n",
        "else:\n",
        "  print(\"FAIL\")\n",
        "\n",
        "\n",
        "\n",
        "\n",
        "\n",
        "\n",
        "\n"
      ],
      "metadata": {
        "colab": {
          "base_uri": "https://localhost:8080/"
        },
        "id": "ZAgnVHFoRYLG",
        "outputId": "8f320ae3-dc0f-4d9c-fd85-680d33940ac2"
      },
      "execution_count": null,
      "outputs": [
        {
          "output_type": "stream",
          "name": "stdout",
          "text": [
            "enter the studentsgrade is:B\n",
            "GOOD\n"
          ]
        }
      ]
    },
    {
      "cell_type": "code",
      "source": [
        "num1=5\n",
        "num2=10\n",
        "if(num2>num1):\n",
        "  print(\"10 is greater than 5\")\n"
      ],
      "metadata": {
        "colab": {
          "base_uri": "https://localhost:8080/"
        },
        "id": "-dfW-ChhhmPh",
        "outputId": "a87a7b06-66fa-406a-b719-fdd2a31acc84"
      },
      "execution_count": null,
      "outputs": [
        {
          "output_type": "stream",
          "name": "stdout",
          "text": [
            "10 is greater than 5\n"
          ]
        }
      ]
    },
    {
      "cell_type": "code",
      "source": [
        "x=int(input(\"enter the number:\"))\n",
        "if(x%2)==0:\n",
        "  print(\"{0} is even \".format(x))\n",
        "else:\n",
        "    print(\"{0} is odd \".format(x))"
      ],
      "metadata": {
        "colab": {
          "base_uri": "https://localhost:8080/"
        },
        "id": "JSkPSU3sjBem",
        "outputId": "70422d50-1dfd-4907-d03a-357a23427586"
      },
      "execution_count": null,
      "outputs": [
        {
          "output_type": "stream",
          "name": "stdout",
          "text": [
            "enter the number:6\n",
            "6 is even \n"
          ]
        }
      ]
    },
    {
      "cell_type": "code",
      "source": [
        "x=int(input(\"enter the year:\"))\n",
        "if(x%2==0):\n",
        "  print(\"{0} is leap year\".format(x))\n",
        "else:\n",
        "  print(\"{0} is not a leap year\".format(x))"
      ],
      "metadata": {
        "colab": {
          "base_uri": "https://localhost:8080/"
        },
        "id": "DbrNaLq1nfXV",
        "outputId": "6f54466f-0d2b-4bbb-a794-f2e20a0a70fc"
      },
      "execution_count": null,
      "outputs": [
        {
          "output_type": "stream",
          "name": "stdout",
          "text": [
            "enter the year:2024\n",
            "2024 is leap year\n"
          ]
        }
      ]
    },
    {
      "cell_type": "code",
      "source": [
        "x=int(input(\"enter the exam score:\"))\n",
        "if(x>=50):\n",
        "  print(\"congratulations! you have passed\")\n",
        "else:\n",
        "  print(\"sorry,you have failed.better luck next time\")\n"
      ],
      "metadata": {
        "colab": {
          "base_uri": "https://localhost:8080/"
        },
        "id": "nXELgQxzoZCW",
        "outputId": "88035d42-862a-419f-ab61-292e33e63093"
      },
      "execution_count": null,
      "outputs": [
        {
          "output_type": "stream",
          "name": "stdout",
          "text": [
            "enter the exam score:75\n",
            "congratulations! you have passed\n"
          ]
        }
      ]
    },
    {
      "cell_type": "code",
      "source": [
        "x=0\n",
        "x=int(input(\"enter the number\"))\n",
        "if(x>0):\n",
        "  print(\"positive\")\n",
        "elif(x<0):\n",
        "  print(\"negative\")\n",
        "else:\n",
        "  print(\"zero\")"
      ],
      "metadata": {
        "colab": {
          "base_uri": "https://localhost:8080/"
        },
        "id": "s5HjZ4WIp3Ht",
        "outputId": "38313ff6-6908-488b-bfc5-87af5d1c45f0"
      },
      "execution_count": null,
      "outputs": [
        {
          "output_type": "stream",
          "name": "stdout",
          "text": [
            "enter the number-7\n",
            "negative\n"
          ]
        }
      ]
    },
    {
      "cell_type": "markdown",
      "source": [],
      "metadata": {
        "id": "FHXOsJK_UwjV"
      }
    },
    {
      "cell_type": "code",
      "source": [
        "t=0\n",
        "t=int(input(\"enter the temperature:\"))\n",
        "if(t<0):\n",
        "   print(\"freezing\")\n",
        "elif(t<=18):\n",
        "     print(\"cold\")\n",
        "elif(t<=30):\n",
        "     print(\"warm\")\n",
        "else:\n",
        "     print(\"hot\")\n"
      ],
      "metadata": {
        "colab": {
          "base_uri": "https://localhost:8080/"
        },
        "id": "TIk2tFnYsxIq",
        "outputId": "6e0d8fc9-3143-480b-cc4a-0b644f97969f"
      },
      "execution_count": null,
      "outputs": [
        {
          "output_type": "stream",
          "name": "stdout",
          "text": [
            "enter the temperature:25\n",
            "warm\n"
          ]
        }
      ]
    },
    {
      "cell_type": "code",
      "source": [
        "result=1\n",
        "n=int(input(\"enter non-negative integar;\"))\n",
        "for i in range(n,0,-1):\n",
        "  result=result*i\n",
        "  print(\"factorial of\",n,\"is\",result)"
      ],
      "metadata": {
        "colab": {
          "base_uri": "https://localhost:8080/"
        },
        "id": "fVerkYhlrXgQ",
        "outputId": "1875ce98-069c-446c-9b26-eb740ca0fc1e"
      },
      "execution_count": null,
      "outputs": [
        {
          "output_type": "stream",
          "name": "stdout",
          "text": [
            "enter non-negative integar;5\n",
            "factorial of 5 is 5\n",
            "factorial of 5 is 20\n",
            "factorial of 5 is 60\n",
            "factorial of 5 is 120\n",
            "factorial of 5 is 120\n"
          ]
        }
      ]
    },
    {
      "cell_type": "code",
      "source": [
        "n=0\n",
        "n=int(input(\"enter positive integar:\"))\n",
        "for n in range(1,n+1):\n",
        "  n=n\n",
        "  print(n)\n"
      ],
      "metadata": {
        "colab": {
          "base_uri": "https://localhost:8080/"
        },
        "id": "qBpATl2_szMH",
        "outputId": "a75c300f-f1fa-4d82-a4ef-4417e32bccde"
      },
      "execution_count": null,
      "outputs": [
        {
          "output_type": "stream",
          "name": "stdout",
          "text": [
            "enter positive integar:5\n",
            "1\n",
            "2\n",
            "3\n",
            "4\n",
            "5\n"
          ]
        }
      ]
    },
    {
      "cell_type": "code",
      "source": [
        "rows=int(input(\"enter the number of rows for the triangle:\"))\n",
        "for i in range(1,rows+1):\n",
        "  for j in range(1,i+1):\n",
        "    print(j, end=\"\")\n",
        "  print()\n"
      ],
      "metadata": {
        "colab": {
          "base_uri": "https://localhost:8080/"
        },
        "id": "awXsdDvvRI0R",
        "outputId": "52bb10ff-adff-4e71-b30d-ba46857fc87c"
      },
      "execution_count": null,
      "outputs": [
        {
          "output_type": "stream",
          "name": "stdout",
          "text": [
            "enter the number of rows for the triangle:4\n",
            "1\n",
            "12\n",
            "123\n",
            "1234\n"
          ]
        }
      ]
    },
    {
      "cell_type": "code",
      "source": [
        "n=int(input(\"enter the numbers of rows in the triangle:\"))\n",
        "for i in range(1,n+1):\n",
        "  for j in range(i):\n",
        "    print(\"*\",end=\" \")\n",
        "  print()"
      ],
      "metadata": {
        "colab": {
          "base_uri": "https://localhost:8080/"
        },
        "id": "q9W1GWRuTSyr",
        "outputId": "c2fa451d-b51b-49fc-c426-a9448b31c565"
      },
      "execution_count": null,
      "outputs": [
        {
          "output_type": "stream",
          "name": "stdout",
          "text": [
            "enter the numbers of rows in the triangle:2\n",
            "* \n",
            "* * \n"
          ]
        }
      ]
    },
    {
      "cell_type": "code",
      "source": [
        "num1=int(input(\"enter the first number: \"))\n",
        "num2=int(input(\"enter the second number: \"))\n",
        "gcd=1\n",
        "for i in range(1,min(num1,num2)):\n",
        "    if num1 % i == 0 and num2 %i == 0:\n",
        "       gcd=i\n",
        "print(f\"The greatest common divisor of \",num1, \"and\", num2, \"is\", gcd)"
      ],
      "metadata": {
        "colab": {
          "base_uri": "https://localhost:8080/"
        },
        "id": "Z0KD8azKZzmY",
        "outputId": "db7c5c5b-a8d1-46f0-d34c-534357b07524"
      },
      "execution_count": null,
      "outputs": [
        {
          "output_type": "stream",
          "name": "stdout",
          "text": [
            "enter the first number: 36\n",
            "enter the second number: 48\n",
            "The greatest common divisor of  36 and 48 is 12\n"
          ]
        }
      ]
    }
  ]
}