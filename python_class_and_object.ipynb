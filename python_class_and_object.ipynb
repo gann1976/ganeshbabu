{
  "nbformat": 4,
  "nbformat_minor": 0,
  "metadata": {
    "colab": {
      "provenance": [],
      "toc_visible": true,
      "authorship_tag": "ABX9TyPxiL4HNdfDSPA8EFvZOJ7R",
      "include_colab_link": true
    },
    "kernelspec": {
      "name": "python3",
      "display_name": "Python 3"
    },
    "language_info": {
      "name": "python"
    }
  },
  "cells": [
    {
      "cell_type": "markdown",
      "metadata": {
        "id": "view-in-github",
        "colab_type": "text"
      },
      "source": [
        "<a href=\"https://colab.research.google.com/github/gann1976/ganeshbabu/blob/main/python_class_and_object.ipynb\" target=\"_parent\"><img src=\"https://colab.research.google.com/assets/colab-badge.svg\" alt=\"Open In Colab\"/></a>"
      ]
    },
    {
      "cell_type": "code",
      "execution_count": null,
      "metadata": {
        "colab": {
          "base_uri": "https://localhost:8080/"
        },
        "id": "ww9JepShPMlH",
        "outputId": "73f85241-6186-4eb2-a646-9c272acd9a16"
      },
      "outputs": [
        {
          "output_type": "stream",
          "name": "stdout",
          "text": [
            "brand: toyota\n",
            "model camry\n"
          ]
        }
      ],
      "source": [
        "class car():\n",
        "  def __init__(self,brand,model):\n",
        "    self.brand=brand\n",
        "    self.model=model\n",
        "    print(\"brand:\",self.brand)\n",
        "    print(\"model\",self.model)\n",
        "\n",
        "\n",
        "c1=car(\"toyota\",\"camry\")\n"
      ]
    },
    {
      "cell_type": "code",
      "source": [
        "class book():\n",
        "   def __init__(self,title,author):\n",
        "     self.title=title\n",
        "     self.author=author\n",
        "     print(\"book-Title:\",self.title)\n",
        "     print(\"Author name:\",self.author)\n",
        "\n",
        "\n",
        "\n",
        "\n",
        "book1=book(\"The catcher in the Rye\",\"J.D.Salinger\")\n",
        "book2=book(\"To Kill a Mockingbird\",\"Harper lee\")\n"
      ],
      "metadata": {
        "colab": {
          "base_uri": "https://localhost:8080/"
        },
        "id": "vA1YLayjSWvd",
        "outputId": "df60d264-9150-4ba7-c8c7-7600711a6f89"
      },
      "execution_count": null,
      "outputs": [
        {
          "output_type": "stream",
          "name": "stdout",
          "text": [
            "book-Title: The catcher in the Rye\n",
            "Author name: J.D.Salinger\n",
            "book-Title: To Kill a Mockingbird\n",
            "Author name: Harper lee\n"
          ]
        }
      ]
    },
    {
      "cell_type": "code",
      "source": [
        "class person():\n",
        "  def __init__(self,Human):\n",
        "    self.Human=Human\n",
        "    print(\"Human:\",self.Human)\n",
        "\n",
        "\n",
        "person1=person(\"ganesh\")\n",
        "person2=person(\"sureka\")\n",
        "person3=person(\"saathvik\")\n",
        "person4=person(\"rithvik-roshan\")"
      ],
      "metadata": {
        "colab": {
          "base_uri": "https://localhost:8080/"
        },
        "id": "bLSdMg7eXSwc",
        "outputId": "653b8fcb-4ce1-4e33-922e-d8d9f442e5e6"
      },
      "execution_count": null,
      "outputs": [
        {
          "output_type": "stream",
          "name": "stdout",
          "text": [
            "Human: ganesh\n",
            "Human: sureka\n",
            "Human: saathvik\n",
            "Human: rithvik-roshan\n"
          ]
        }
      ]
    },
    {
      "cell_type": "code",
      "source": [
        "class person():\n",
        "     def __init__(self,name,age):\n",
        "      self.name=name\n",
        "      self.age=age\n",
        "      print(f\"{self.name} is a human and is {self.age} years old\")\n",
        "\n",
        "person1=person(\"ganesh babu\",\"48\")\n",
        "person2=person(\"sureka\",\"42\")\n",
        "person3=person(\"saathvik\",\"10\")\n",
        "person4=person(\"rithvik roshan\",\"6\")\n",
        "\n",
        "\n"
      ],
      "metadata": {
        "colab": {
          "base_uri": "https://localhost:8080/"
        },
        "id": "e0BKIzQIZ57a",
        "outputId": "d482d049-3bdf-4d51-e03c-eb8da1d1530a"
      },
      "execution_count": null,
      "outputs": [
        {
          "output_type": "stream",
          "name": "stdout",
          "text": [
            "ganesh babu is a human and is 48 years old\n",
            "sureka is a human and is 42 years old\n",
            "saathvik is a human and is 10 years old\n",
            "rithvik roshan is a human and is 6 years old\n"
          ]
        }
      ]
    },
    {
      "cell_type": "code",
      "source": [
        "class person():\n",
        "    def __init__(self,name,age):\n",
        "       self.name=name\n",
        "       self.age=age\n",
        "    def display_info(self):\n",
        "        print(\"name:\",self.name)\n",
        "        print(\"age:\",self.age)\n",
        "\n",
        "person1=person(\"alice\",\"16\")\n",
        "person1.display_info()\n"
      ],
      "metadata": {
        "id": "uIeUMJQjE6g3",
        "colab": {
          "base_uri": "https://localhost:8080/"
        },
        "outputId": "b7ceb412-732d-49ca-93ca-b72f7cd534aa"
      },
      "execution_count": null,
      "outputs": [
        {
          "output_type": "stream",
          "name": "stdout",
          "text": [
            "name: alice\n",
            "age: 16\n"
          ]
        }
      ]
    },
    {
      "cell_type": "code",
      "source": [
        "class rectangle():\n",
        "    def calculate_area(self,length,width):\n",
        "      self.length=length\n",
        "      self.width=width\n",
        "      print(\"The area of rectangle is\",self.length*self.width)\n",
        "\n",
        "r1=rectangle()\n",
        "r1.calculate_area(5,3)\n",
        "\n",
        "\n"
      ],
      "metadata": {
        "colab": {
          "base_uri": "https://localhost:8080/"
        },
        "id": "tnHznRoySAH_",
        "outputId": "91e26ee5-57c3-400e-e018-d7ddf220042f"
      },
      "execution_count": null,
      "outputs": [
        {
          "output_type": "stream",
          "name": "stdout",
          "text": [
            "The area of rectangle is 15\n"
          ]
        }
      ]
    },
    {
      "cell_type": "code",
      "source": [
        "class shape:\n",
        "  def area(self):\n",
        "      print(\"do nothing\")\n",
        "\n",
        "class rectangle(shape):\n",
        "     def area(self,length,width):\n",
        "      self.length=length\n",
        "      self.width=width\n",
        "      print(\"The area of rectangle is:\",self.length*self.width)\n",
        "\n",
        "\n",
        "\n",
        "class circle(shape):\n",
        "    def area (self,radius):\n",
        "      self.radius=radius\n",
        "      print(\"The area of circle is:\", 3.14159 * self.radius* self.radius)\n",
        "\n",
        "\n",
        "\n",
        "r1=rectangle()\n",
        "r1.area(4,6)\n",
        "c1=circle ()\n",
        "c1.area(5)\n",
        "\n"
      ],
      "metadata": {
        "colab": {
          "base_uri": "https://localhost:8080/"
        },
        "id": "DHPPh9OGfc35",
        "outputId": "6ddc079c-ced4-4c0a-f724-0a8ebf60a796"
      },
      "execution_count": null,
      "outputs": [
        {
          "output_type": "stream",
          "name": "stdout",
          "text": [
            "The area of rectangle is: 24\n",
            "The area of circle is: 78.53975\n"
          ]
        }
      ]
    },
    {
      "cell_type": "code",
      "source": [
        "from os import name\n",
        "class Animal:\n",
        "    def __init__(self,name,sound):\n",
        "       self.name=name\n",
        "       self.sound=sound\n",
        "\n",
        "\n",
        "class dog(Animal):\n",
        "     def __init__(self,name,sound=\"woof\"):\n",
        "         super(). __init__(name,sound)\n",
        "\n",
        "     def make_sound(self):\n",
        "       return f\"{self.name} says{self.sound}\"\n",
        "\n",
        "\n",
        "class cat(Animal):\n",
        "     def __init__(self,name,sound=\"meow\"):\n",
        "       super(). __init__(name,sound)\n",
        "\n",
        "     def make_sound(self):\n",
        "      return f\"{self.name} says {self.sound}\"\n",
        "\n",
        "\n",
        "DOG=dog(\"buddy\")\n",
        "print(DOG.make_sound())\n",
        "CAT=cat(\"meow\")\n",
        "print(CAT.make_sound())\n",
        "\n",
        "\n",
        "\n",
        "\n",
        "\n"
      ],
      "metadata": {
        "colab": {
          "base_uri": "https://localhost:8080/"
        },
        "id": "5WxWh7YGZi-l",
        "outputId": "087640f5-ad4e-42e9-e3d1-6d97da7802d5"
      },
      "execution_count": null,
      "outputs": [
        {
          "output_type": "stream",
          "name": "stdout",
          "text": [
            "buddy sayswoof\n",
            "meow saysmeow\n"
          ]
        }
      ]
    },
    {
      "cell_type": "code",
      "source": [
        "\n",
        "class Math_operation:\n",
        "  def __init__(self, a, b, c):\n",
        "     self.a = a\n",
        "     self.b = b\n",
        "     self.c = c\n",
        "  def add_two(self, a, b):\n",
        "\n",
        "        sum = (a + b)\n",
        "        return sum\n",
        "  def add_three(self, a, b, c):\n",
        "\n",
        "        sum= (a + b + c)\n",
        "        return sum\n",
        "\n",
        "\n",
        "m = Math_operation(20, 30, 35)\n",
        "print(m.add_two(20, 30))\n",
        "print(m.add_three(70, 50, 35))\n"
      ],
      "metadata": {
        "id": "xbsS4nVom6Iq",
        "colab": {
          "base_uri": "https://localhost:8080/"
        },
        "outputId": "2a2f6d42-d9fd-4be4-e2d2-24a73a738cbc"
      },
      "execution_count": 37,
      "outputs": [
        {
          "output_type": "stream",
          "name": "stdout",
          "text": [
            "50\n",
            "155\n"
          ]
        }
      ]
    },
    {
      "cell_type": "code",
      "source": [
        "class String_manipulator:\n",
        "   @ staticmethod\n",
        "   def reverse_string(string):\n",
        "       return string[::-1]\n",
        "\n",
        "\n",
        "result=String_manipulator.reverse_string(\"python\")\n",
        "print(result)\n"
      ],
      "metadata": {
        "colab": {
          "base_uri": "https://localhost:8080/"
        },
        "id": "NZLAvU9e2QWE",
        "outputId": "02e5d5fe-fc0e-47f5-c747-e25474068aff"
      },
      "execution_count": null,
      "outputs": [
        {
          "output_type": "stream",
          "name": "stdout",
          "text": [
            "nohtyp\n"
          ]
        }
      ]
    },
    {
      "cell_type": "code",
      "source": [
        "class Tempratureconverter:\n",
        "    @ staticmethod\n",
        "    def celsius_to_fahrenheit(celsius):\n",
        "        return (celsius*9/5)+32\n",
        "\n",
        "result=Tempratureconverter.celsius_to_fahrenheit(20)\n",
        "print(result)"
      ],
      "metadata": {
        "colab": {
          "base_uri": "https://localhost:8080/"
        },
        "id": "77LPn-V_A4zU",
        "outputId": "5de5a632-f1c5-4fb9-f901-1308ffb62c87"
      },
      "execution_count": null,
      "outputs": [
        {
          "output_type": "stream",
          "name": "stdout",
          "text": [
            "68.0\n"
          ]
        }
      ]
    },
    {
      "cell_type": "code",
      "source": [
        "class BankAccount:\n",
        "    def __init__(self,balance=1000,account_number=\"abc123\"):\n",
        "        self.__balance = balance\n",
        "        self.__account_number = account_number\n",
        "\n",
        "    def deposit(self,amount):\n",
        "      if amount>0:\n",
        "         self.__balance+=amount\n",
        "         print(f\"deposit ${amount}\")\n",
        "      else:\n",
        "         print(\"invalid deposit amount\")\n",
        "\n",
        "\n",
        "\n",
        "    def withdraw(self,amount):\n",
        "         if 0<amount<=self.__balance:\n",
        "           self.__balance -= amount\n",
        "           print(f\"withdraw ${amount}\")\n",
        "         else:\n",
        "            print(\"insufficient fund\")\n",
        "\n",
        "\n",
        "    def display_balance(self):\n",
        "          print(f\"accountnumber:{self.__account_number}\")\n",
        "          print(f\"current balance:${self.__balance}\")\n",
        "\n",
        "account = BankAccount()\n",
        "account.display_balance()\n",
        "account.deposit(500)\n",
        "account.display_balance()\n",
        "account.withdraw(200)\n",
        "account.display_balance()\n",
        "\n",
        "\n",
        "\n",
        "\n",
        "\n",
        "\n"
      ],
      "metadata": {
        "colab": {
          "base_uri": "https://localhost:8080/"
        },
        "id": "4m-7UYycPAMk",
        "outputId": "dd2708d4-de7e-443d-cfac-1128a77272d5"
      },
      "execution_count": 18,
      "outputs": [
        {
          "output_type": "stream",
          "name": "stdout",
          "text": [
            "accountnumber:abc123\n",
            "current balance:$1000\n",
            "deposit $500\n",
            "accountnumber:abc123\n",
            "current balance:$1500\n",
            "withdraw $200\n",
            "accountnumber:abc123\n",
            "current balance:$1300\n"
          ]
        }
      ]
    },
    {
      "cell_type": "code",
      "source": [],
      "metadata": {
        "id": "Pxpzgz3e568W"
      },
      "execution_count": null,
      "outputs": []
    }
  ]
}